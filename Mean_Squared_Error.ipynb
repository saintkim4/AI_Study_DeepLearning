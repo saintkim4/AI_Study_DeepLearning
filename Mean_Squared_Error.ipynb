{
 "cells": [
  {
   "cell_type": "code",
   "execution_count": 7,
   "id": "83fb4128",
   "metadata": {
    "scrolled": true
   },
   "outputs": [
    {
     "name": "stdout",
     "output_type": "stream",
     "text": [
      "공부시간=2, 실제 점수=81, 예측 점수=82\n",
      "공부시간=4, 실제 점수=93, 예측 점수=88\n",
      "공부시간=6, 실제 점수=91, 예측 점수=94\n",
      "공부시간=8, 실제 점수=97, 예측 점수=100\n",
      "mse 최종값: 11.0\n"
     ]
    }
   ],
   "source": [
    "import numpy as np\n",
    "\n",
    "fake_a_b = [3, 76]\n",
    "\n",
    "data = [[2, 81], [4, 93], [6, 91], [8,97]]\n",
    "x = [i[0] for i in data]\n",
    "y = [i[1] for i in data]\n",
    "\n",
    "#일차 방정식 y = ax + b\n",
    "def predict(x):\n",
    "        return fake_a_b[0]*x + fake_a_b[1]\n",
    "    \n",
    "# 평균 제곱 오차 방정식\n",
    "def mse(y, y_hat):\n",
    "    return ((y-y_hat) ** 2).mean()\n",
    "# ** 2는 제곱을 구하는 뜻\n",
    "# .mean()은 평균을 구하라는 뜻\n",
    "\n",
    "# 최종값을 구하기\n",
    "# predict_result에는 일차 방정식의 함수 predict의 결과 값이 들어 있음\n",
    "def mse_val(y, predict_result):\n",
    "    return mse(np.array(y), np.array(predict_result))\n",
    "\n",
    "# 예측 값이 들어갈 빈 리스트\n",
    "predict_result = []\n",
    "\n",
    "# 모든 x값을 한 번씩 대입하여\n",
    "for i in range(len(x)):\n",
    "    # 그 결과에 해당하는 predict_result 리스틀 완성\n",
    "    predict_result.append(predict(x[i]))\n",
    "    print(\"공부시간=%.f, 실제 점수=%.f, 예측 점수=%.f\" % (x[i], y[i], predict(x[i])))\n",
    "    \n",
    "# 최종 MSE 출력\n",
    "print(\"mse 최종값: \" + str(mse_val(predict_result,y)))"
   ]
  },
  {
   "cell_type": "code",
   "execution_count": null,
   "id": "b97b8b74",
   "metadata": {},
   "outputs": [],
   "source": []
  },
  {
   "cell_type": "code",
   "execution_count": null,
   "id": "d51e8b0c",
   "metadata": {},
   "outputs": [],
   "source": []
  },
  {
   "cell_type": "code",
   "execution_count": null,
   "id": "9befc507",
   "metadata": {},
   "outputs": [],
   "source": []
  }
 ],
 "metadata": {
  "kernelspec": {
   "display_name": "Python 3",
   "language": "python",
   "name": "python3"
  },
  "language_info": {
   "codemirror_mode": {
    "name": "ipython",
    "version": 3
   },
   "file_extension": ".py",
   "mimetype": "text/x-python",
   "name": "python",
   "nbconvert_exporter": "python",
   "pygments_lexer": "ipython3",
   "version": "3.7.10"
  }
 },
 "nbformat": 4,
 "nbformat_minor": 5
}
