{
 "cells": [
  {
   "cell_type": "code",
   "execution_count": 4,
   "metadata": {},
   "outputs": [],
   "source": [
    "import numpy as np\n",
    "import pandas as pd\n",
    "import matplotlib.pyplot as plt"
   ]
  },
  {
   "cell_type": "code",
   "execution_count": 7,
   "metadata": {},
   "outputs": [
    {
     "data": {
      "image/png": "[encoded data removed]",
      "text/plain": [
       "<Figure size 432x288 with 1 Axes>"
      ]
     },
     "metadata": {
      "needs_background": "light"
     },
     "output_type": "display_data"
    }
   ],
   "source": [
    "# 공부 시간 x와 합격 여부 y의 리스트 만들기\n",
    "data = [[2, 0], [4, 0], [6, 0], [8, 1], [10, 1], [12, 1], [14, 1]]\n",
    "\n",
    "x_data = [i[0] for i in data]\n",
    "y_data = [i[1] for i in data]\n",
    "\n",
    "# 그래프로 나타내기\n",
    "plt.scatter(x_data, y_data)\n",
    "plt.xlim(0, 15)\n",
    "plt.ylim(-.1, 1.1)\n",
    "\n",
    "# 기울기 a와 절편 b의 값 초기화\n",
    "a = 0\n",
    "b = 0\n",
    "\n",
    "# 학습률\n",
    "lr = 0.05"
   ]
  },
  {
   "cell_type": "code",
   "execution_count": 8,
   "metadata": {},
   "outputs": [],
   "source": [
    "# 시그모이드 함수 정의\n",
    "def sigmoid(x):\n",
    "    return 1 / (1 + np.e ** (-x))"
   ]
  },
  {
   "cell_type": "code",
   "execution_count": 10,
   "metadata": {},
   "outputs": [
    {
     "name": "stdout",
     "output_type": "stream",
     "text": [
      "epoch=0, 기울기=-0.0738, 절편=-0.0244\n",
      "epoch=0, 기울기=-0.1579, 절편=-0.0454\n",
      "epoch=0, 기울기=-0.2390, 절편=-0.0589\n",
      "epoch=0, 기울기=0.1121, 절편=-0.0150\n",
      "epoch=0, 기울기=0.2364, 절편=-0.0026\n",
      "epoch=0, 기울기=0.2697, 절편=0.0002\n",
      "epoch=0, 기울기=0.2854, 절편=0.0013\n",
      "epoch=1000, 기울기=1.4978, 절편=-9.9398\n",
      "epoch=1000, 기울기=1.4940, 절편=-9.9408\n",
      "epoch=1000, 기울기=1.4119, 절편=-9.9544\n",
      "epoch=1000, 기울기=1.4949, 절편=-9.9441\n",
      "epoch=1000, 기울기=1.4982, 절편=-9.9437\n",
      "epoch=1000, 기울기=1.4984, 절편=-9.9437\n",
      "epoch=1000, 기울기=1.4984, 절편=-9.9437\n",
      "epoch=2000, 기울기=1.9064, 절편=-12.9487\n",
      "epoch=2000, 기울기=1.9055, 절편=-12.9489\n",
      "epoch=2000, 기울기=1.8515, 절편=-12.9579\n",
      "epoch=2000, 기울기=1.9056, 절편=-12.9512\n",
      "epoch=2000, 기울기=1.9067, 절편=-12.9511\n",
      "epoch=2000, 기울기=1.9068, 절편=-12.9511\n",
      "epoch=2000, 기울기=1.9068, 절편=-12.9511\n"
     ]
    }
   ],
   "source": [
    "# 경사 하강법 실행\n",
    "# 1,000번 반복될 때마다 각 x_data 값에 대한 현재의 a값, b값 출력\n",
    "for i in range(2001):\n",
    "    for x_data, y_data in data:\n",
    "        a_diff = x_data*(sigmoid(a * x_data + b) - y_data)\n",
    "        b_diff = sigmoid(a * x_data + b) - y_data\n",
    "        a = a - lr * a_diff\n",
    "        b = b - lr * b_diff\n",
    "        if i % 1000 == 0:\n",
    "            print(\"epoch=%.f, 기울기=%.04f, 절편=%.04f\" % (i, a, b))\n",
    "        "
   ]
  },
  {
   "cell_type": "code",
   "execution_count": null,
   "metadata": {},
   "outputs": [],
   "source": []
  }
 ],
 "metadata": {
  "kernelspec": {
   "display_name": "Python 3",
   "language": "python",
   "name": "python3"
  },
  "language_info": {
   "codemirror_mode": {
    "name": "ipython",
    "version": 3
   },
   "file_extension": ".py",
   "mimetype": "text/x-python",
   "name": "python",
   "nbconvert_exporter": "python",
   "pygments_lexer": "ipython3",
   "version": "3.8.5"
  }
 },
 "nbformat": 4,
 "nbformat_minor": 4
}
